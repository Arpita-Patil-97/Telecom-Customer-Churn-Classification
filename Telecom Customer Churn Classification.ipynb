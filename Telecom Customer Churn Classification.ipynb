{
 "cells": [
  {
   "cell_type": "markdown",
   "id": "9a1d14e3",
   "metadata": {},
   "source": [
    "### Importing Libraries & Packages"
   ]
  },
  {
   "cell_type": "code",
   "execution_count": 3,
   "id": "73111f83",
   "metadata": {},
   "outputs": [],
   "source": [
    "import numpy as np # linear algebra\n",
    "import pandas as pd # data processing, CSV file I/O (e.g. pd.read_csv)\n",
    "import seaborn as sns # For creating plots\n",
    "import matplotlib.ticker as mtick # For specifying the axes tick format \n",
    "import matplotlib.pyplot as plt\n",
    "\n",
    "sns.set(style = 'white')"
   ]
  },
  {
   "cell_type": "markdown",
   "id": "f9204319",
   "metadata": {},
   "source": [
    "# Reading the file"
   ]
  },
  {
   "cell_type": "code",
   "execution_count": null,
   "id": "d7934327",
   "metadata": {},
   "outputs": [],
   "source": [
    "telecomdata = pd.read_csv('Telco-Customer-Churn.csv')"
   ]
  },
  {
   "cell_type": "markdown",
   "id": "8b70f875",
   "metadata": {},
   "source": [
    "Inspecting values"
   ]
  },
  {
   "cell_type": "code",
   "execution_count": null,
   "id": "263f0551",
   "metadata": {},
   "outputs": [],
   "source": [
    "telecomdata.head()"
   ]
  },
  {
   "cell_type": "code",
   "execution_count": null,
   "id": "daf7c20e",
   "metadata": {},
   "outputs": [],
   "source": [
    "telecomdata.columns.values"
   ]
  },
  {
   "cell_type": "code",
   "execution_count": null,
   "id": "0f85d8d2",
   "metadata": {},
   "outputs": [],
   "source": [
    "telecomdata.shape"
   ]
  },
  {
   "cell_type": "code",
   "execution_count": null,
   "id": "bdf793fd",
   "metadata": {},
   "outputs": [],
   "source": [
    "telecomdata.describe()"
   ]
  },
  {
   "cell_type": "code",
   "execution_count": null,
   "id": "67cce75f",
   "metadata": {},
   "outputs": [],
   "source": [
    "telecomdata.info()"
   ]
  },
  {
   "cell_type": "markdown",
   "id": "e70174c7",
   "metadata": {},
   "source": [
    "Checking missing values"
   ]
  },
  {
   "cell_type": "code",
   "execution_count": null,
   "id": "6d7257d6",
   "metadata": {},
   "outputs": [],
   "source": [
    "telecomdata.dtypes"
   ]
  },
  {
   "cell_type": "markdown",
   "id": "0a605448",
   "metadata": {},
   "source": [
    "Converting Total Charges to a numerical data type."
   ]
  },
  {
   "cell_type": "code",
   "execution_count": null,
   "id": "7ae9b24c",
   "metadata": {},
   "outputs": [],
   "source": [
    "telecomdata.TotalCharges = pd.to_numeric(telecomdata.TotalCharges, errors='coerce')\n",
    "telecomdata.isnull().sum()"
   ]
  },
  {
   "cell_type": "markdown",
   "id": "670f6943",
   "metadata": {},
   "source": [
    "Removing missing values"
   ]
  },
  {
   "cell_type": "code",
   "execution_count": null,
   "id": "3a81b993",
   "metadata": {},
   "outputs": [],
   "source": [
    "telecomdata.dropna(inplace = True)\n",
    "df1 = telecomdata.iloc[:,1:]\n"
   ]
  },
  {
   "cell_type": "code",
   "execution_count": null,
   "id": "ff78cd28",
   "metadata": {},
   "outputs": [],
   "source": [
    "Convertin the predictor variable in a binary numeric variable\n",
    "df1['Churn'].replace(to_replace='Yes', value=1, inplace=True)\n",
    "df1['Churn'].replace(to_replace='No',  value=0, inplace=True)\n",
    "\n",
    "#Converting categorical variables into dummy variables\n",
    "df_dummy = pd.get_dummies(df1)\n",
    "df_dummy.head()"
   ]
  },
  {
   "cell_type": "code",
   "execution_count": null,
   "id": "a0045891",
   "metadata": {},
   "outputs": [],
   "source": [
    "#Getting Correlation of \"Churn\" with other variables:\n",
    "plt.figure(figsize=(15,8))\n",
    "df_dummy.corr()['Churn'].sort_values(ascending = False).plot(kind='bar')"
   ]
  },
  {
   "cell_type": "markdown",
   "id": "03ca012f",
   "metadata": {},
   "source": [
    "*Absence of online security, month- month contracts & tech support seem to be positively correlated with churn. While, tenure, 2 year contract seems to be negatively correlated with churn.\n",
    "\n",
    "*Services such as streaming TV, Online security,online backup, tech support, etc. without internet connection are negatively related to churn."
   ]
  },
  {
   "cell_type": "markdown",
   "id": "823195f3",
   "metadata": {},
   "source": [
    "### Data Exploration\n"
   ]
  },
  {
   "cell_type": "markdown",
   "id": "9791fc3f",
   "metadata": {},
   "source": [
    "Look at the distribution of individual variables and then slice and dice the data for any interesting trends.\n"
   ]
  },
  {
   "cell_type": "markdown",
   "id": "7e5458c4",
   "metadata": {},
   "source": [
    "### A) Demographics \n"
   ]
  },
  {
   "cell_type": "markdown",
   "id": "ada9dd1a",
   "metadata": {},
   "source": [
    "\n",
    "*Understand the gender, age range, patner and dependent status of the customers\n",
    "\n",
    "Note- Gender Distribution - About half of the customers in our data set are female while the other half are male."
   ]
  },
  {
   "cell_type": "code",
   "execution_count": null,
   "id": "3cd7a04b",
   "metadata": {},
   "outputs": [],
   "source": [
    "colors = ['#4D3425','#E4512B']\n",
    "ax = (telecomdata['gender'].value_counts()*100.0 /len(telecomdata)).plot(kind='bar',\n",
    "                                                                           stacked = True,\n",
    "                                                                          rot = 0,\n",
    "                                                                          color = colors)\n",
    "ax.yaxis.set_major_formatter(mtick.PercentFormatter())\n",
    "ax.set_ylabel('% Customers')\n",
    "ax.set_xlabel('Gender')\n",
    "ax.set_ylabel('% Customers')\n",
    "ax.set_title('Gender Distribution')\n",
    "\n",
    "# create a list to collect the plt.patches data\n",
    "totals = []\n",
    "\n",
    "# find the values and append to list\n",
    "for i in ax.patches:\n",
    "     totals.append(i.get_width())\n",
    "\n",
    "# set individual bar lables using above list\n",
    "total = sum(totals)\n",
    "\n",
    "for i in ax.patches:\n",
    "    # get_width pulls left or right; get_y pushes up or down\n",
    "    ax.text(i.get_x()+.15, i.get_height()-3.5, \\\n",
    "            str(round((i.get_height()/total), 1))+'%',\n",
    "            fontsize=12,\n",
    "            color='white',\n",
    "           weight = 'bold')"
   ]
  },
  {
   "cell_type": "markdown",
   "id": "ed316140",
   "metadata": {},
   "source": [
    " Senior Citizens\n",
    "\n",
    "*There are only 16% of senior citizen customers hence rest in the data are younger people.\n"
   ]
  },
  {
   "cell_type": "code",
   "execution_count": null,
   "id": "1ff2575e",
   "metadata": {},
   "outputs": [],
   "source": [
    "ax = (telecomdata['SeniorCitizen'].value_counts()*100.0 /len(telecomdata))\\\n",
    ".plot.pie(autopct='%.1f%%', labels = ['No', 'Yes'],figsize =(5,5), fontsize = 12 )                                                                           \n",
    "ax.yaxis.set_major_formatter(mtick.PercentFormatter())\n",
    "ax.set_ylabel('Senior Citizens',fontsize = 12)\n",
    "ax.set_title('% of Senior Citizens', fontsize = 12)"
   ]
  },
  {
   "cell_type": "markdown",
   "id": "abf84395",
   "metadata": {},
   "source": [
    "Partner and dependent status \n",
    "\n",
    "*About 50% of the customers are having partners, while rest 30% of the total customers are dependents.\n"
   ]
  },
  {
   "cell_type": "code",
   "execution_count": null,
   "id": "d1c6f14d",
   "metadata": {},
   "outputs": [],
   "source": [
    "df1 = pd.melt(telecomdata, id_vars=['customerID'], value_vars=['Dependents','Partner'])\n",
    "df2 = df1.groupby(['variable','value']).count().unstack()\n",
    "df2 = df2*100/len(telecom_cust)\n",
    "colors = ['#4D3425','#E4512B']\n",
    "ax = df2.loc[:,'customerID'].plot.bar(stacked=True, color=colors,\n",
    "                                      figsize=(8,6),rot = 0,\n",
    "                                     width = 0.2)\n",
    "\n",
    "ax.yaxis.set_major_formatter(mtick.PercentFormatter())\n",
    "ax.set_ylabel('% Customers',size = 14)\n",
    "ax.set_xlabel('')\n",
    "ax.set_title('% Customers with dependents and partners',size = 14)\n",
    "ax.legend(loc = 'center',prop={'size':14})\n",
    "\n",
    "for p in ax.patches:\n",
    "    width, height = p.get_width(), p.get_height()\n",
    "    x, y = p.get_xy()\n",
    "     ax.annotate('{:.0f}%'.format(height), (p.get_x()+.25*width, p.get_y()+.4*height),\n",
    "                color = 'white',\n",
    "               weight = 'bold',\n",
    "               size = 14)"
   ]
  },
  {
   "cell_type": "markdown",
   "id": "5b96a814",
   "metadata": {},
   "source": [
    "Check the % of customers, who have partners and also have dependents.\n",
    "\n"
   ]
  },
  {
   "cell_type": "markdown",
   "id": "38bdb53c",
   "metadata": {},
   "source": [
    "*Among customers who have partners, only half of them are dependent, while other half are independents. \n",
    "\n",
    "*Among customers who don't have partners, a majority (80%) of them do not have dependents.\n",
    "\n"
   ]
  },
  {
   "cell_type": "code",
   "execution_count": null,
   "id": "e086d1e5",
   "metadata": {},
   "outputs": [],
   "source": [
    "colors = ['#4D3425','#E4512B']\n",
    "partner_dependent = telecomdata.groupby(['Partner','Dependents']).size().unstack()\n",
    "\n",
    "ax = (partner_dependent.T*100.0 / partner_dependent.T.sum()).T.plot(kind='bar',\n",
    "                                                                width = 0.2,\n",
    "                                                                stacked = True,\n",
    "                                                                rot = 0, \n",
    "                                                                figsize = (8,6),\n",
    "                                                                color = colors)\n",
    "ax.yaxis.set_major_formatter(mtick.PercentFormatter())\n",
    "ax.legend(loc='center',prop={'size':14},title = 'Dependents',fontsize =14)\n",
    "ax.set_ylabel('% Customers',size = 14)\n",
    "ax.set_title('% Customers with/without dependents based on whether they have a partner',size = 14)\n",
    "ax.xaxis.label.set_size(14)\n",
    "\n",
    "# Code to add the data labels on the stacked bar chart\n",
    "for p in ax.patches:\n",
    "    width, height = p.get_width(), p.get_height()\n",
    "    x, y = p.get_xy() \n",
    "    ax.annotate('{:.0f}%'.format(height), (p.get_x()+.25*width, p.get_y()+.4*height),\n",
    "                color = 'white',\n",
    "               weight = 'bold',\n",
    "               size = 14)"
   ]
  },
  {
   "cell_type": "markdown",
   "id": "3c247887",
   "metadata": {},
   "source": [
    "*looking at differences between the % of customers with/without dependents and partners by gender. \n",
    "\n",
    "*Being no difference in their distribution by gender, there isn't any difference in senior citizen status by gender."
   ]
  },
  {
   "cell_type": "markdown",
   "id": "004b8810",
   "metadata": {},
   "source": [
    "### B) Customer Account Information: tenure, contract\n"
   ]
  },
  {
   "cell_type": "markdown",
   "id": "aff5921b",
   "metadata": {},
   "source": [
    "1. Tenure-\n",
    "\n",
    "Below histogram  shows that lot of customers have been with the telecom company for a month,\n",
    "while others are there for about 72 months. \n",
    "But, different customers have different contracts. \n",
    "Hence, it could be more or less easier for customers to stay or leave the telecom company based on the contract they are into.\n",
    "\n"
   ]
  },
  {
   "cell_type": "code",
   "execution_count": null,
   "id": "e2369766",
   "metadata": {},
   "outputs": [],
   "source": [
    "ax = sns.distplot(telecomdata['tenure'], hist=True, kde=False, \n",
    "             bins=int(180/5), color = 'darkblue', \n",
    "             hist_kws={'edgecolor':'black'},\n",
    "             kde_kws={'linewidth': 4})\n",
    "ax.set_ylabel('# of Customers')\n",
    "ax.set_xlabel('Tenure (months)')\n",
    "ax.set_title('# of Customers by their tenure')"
   ]
  },
  {
   "cell_type": "markdown",
   "id": "a3ecffb2",
   "metadata": {},
   "source": [
    "2. Contracts: \n",
    "    \n",
    "To understand the above graph, look at the customers by different contracts."
   ]
  },
  {
   "cell_type": "code",
   "execution_count": null,
   "id": "13c71ffc",
   "metadata": {},
   "outputs": [],
   "source": [
    "ax = telecomdata['Contract'].value_counts().plot(kind = 'bar',rot = 0, width = 0.3)\n",
    "ax.set_ylabel('# of Customers')\n",
    "ax.set_title('# of Customers by Contract Type')"
   ]
  },
  {
   "cell_type": "markdown",
   "id": "4fd09fbc",
   "metadata": {},
   "source": [
    "Observations- Most of the customers are in the month to month contract. \n",
    "While equal number of customers in the 1 year & 2 year contracts."
   ]
  },
  {
   "cell_type": "markdown",
   "id": "60f28f63",
   "metadata": {},
   "source": [
    "Below is the tenure of customers based on their contract type.\n",
    "\n"
   ]
  },
  {
   "cell_type": "code",
   "execution_count": null,
   "id": "1708c92e",
   "metadata": {},
   "outputs": [],
   "source": [
    "fig, (ax1,ax2,ax3) = plt.subplots(nrows=1, ncols=3, sharey = True, figsize = (20,6))\n",
    "\n",
    "ax = sns.distplot(telecomdata[telecomdata['Contract']=='Month-to-month']['tenure'],\n",
    "                   hist=True, kde=False,\n",
    "                   bins=int(180/5), color = 'turquoise',\n",
    "                   hist_kws={'edgecolor':'black'},\n",
    "                   kde_kws={'linewidth': 4},\n",
    "                 ax=ax1)\n",
    "ax.set_ylabel('# of Customers')\n",
    "ax.set_xlabel('Tenure (months)')\n",
    "ax.set_title('Month to Month Contract')\n",
    "\n",
    "ax = sns.distplot(telecomdata[telecomdata['Contract']=='One year']['tenure'],\n",
    "                   hist=True, kde=False,\n",
    "                   bins=int(180/5), color = 'steelblue',\n",
    "                   hist_kws={'edgecolor':'black'},\n",
    "                   kde_kws={'linewidth': 4},\n",
    "                 ax=ax2)\n",
    "ax.set_xlabel('Tenure (months)',size = 14)\n",
    "ax.set_title('One Year Contract',size = 14)\n",
    "\n",
    "ax = sns.distplot(telecomdata[telecomdata['Contract']=='Two year']['tenure'],\n",
    "                   hist=True, kde=False,\n",
    "                   bins=int(180/5), color = 'darkblue',\n",
    "                   hist_kws={'edgecolor':'black'},\n",
    "                   kde_kws={'linewidth': 4},\n",
    "                 ax=ax3)\n",
    "\n",
    "ax.set_xlabel('Tenure (months)')\n",
    "ax.set_title('Two Year Contract')"
   ]
  },
  {
   "cell_type": "markdown",
   "id": "7c213f93",
   "metadata": {},
   "source": [
    "Observations- Most of the monthly contracts last for 1-2 months. \n",
    "But 2 year contracts last for about 70 months. \n",
    "This shows that customers having longer contracts are loyal to the company and aim to stay for long.\n",
    "As seen in the earlier chart on correlation with the churn rate.\n",
    "\n"
   ]
  },
  {
   "cell_type": "markdown",
   "id": "ed6088bf",
   "metadata": {},
   "source": [
    "### C) Distribution of various services used by customers"
   ]
  },
  {
   "cell_type": "code",
   "execution_count": null,
   "id": "9de15c5f",
   "metadata": {},
   "outputs": [],
   "source": [
    "telecomdata.columns.values\n"
   ]
  },
  {
   "cell_type": "code",
   "execution_count": null,
   "id": "97fd9378",
   "metadata": {},
   "outputs": [],
   "source": [
    "services = ['PhoneService','MultipleLines','InternetService','OnlineSecurity',\n",
    "           'OnlineBackup','DeviceProtection','TechSupport','StreamingTV','StreamingMovies']\n",
    "\n",
    "fig, axes = plt.subplots(nrows = 3,ncols = 3,figsize = (15,12))\n",
    "for i, item in enumerate(services):\n",
    "    if i < 3:\n",
    "        ax = telecomdata[item].value_counts().plot(kind = 'bar',ax=axes[i,0],rot = 0)\n",
    "        \n",
    "    elif i >=3 and i < 6:\n",
    "        ax = telecomdata[item].value_counts().plot(kind = 'bar',ax=axes[i-3,1],rot = 0)\n",
    "        \n",
    "    elif i < 9:\n",
    "        ax = telecomdata[item].value_counts().plot(kind = 'bar',ax=axes[i-6,2],rot = 0)\n",
    "    ax.set_title(item)"
   ]
  },
  {
   "cell_type": "markdown",
   "id": "1a9dbe33",
   "metadata": {},
   "source": [
    "### D) Relation between monthly & total charges\n"
   ]
  },
  {
   "cell_type": "markdown",
   "id": "7bf6b74b",
   "metadata": {},
   "source": [
    "Assuming that the total charges increases as monthly bill for customer increases.\n",
    "\n"
   ]
  },
  {
   "cell_type": "code",
   "execution_count": null,
   "id": "433e9140",
   "metadata": {},
   "outputs": [],
   "source": [
    "telecomdata[['MonthlyCharges', 'TotalCharges']].plot.scatter(x = 'MonthlyCharges',\n",
    "                                                              y='TotalCharges')"
   ]
  },
  {
   "cell_type": "markdown",
   "id": "0de4f65e",
   "metadata": {},
   "source": [
    "### E) Predictor variable (Churn) with other variables as found in correlation plot\n"
   ]
  },
  {
   "cell_type": "markdown",
   "id": "29ac4605",
   "metadata": {},
   "source": [
    "Churn rate in our data\n"
   ]
  },
  {
   "cell_type": "code",
   "execution_count": null,
   "id": "08860204",
   "metadata": {},
   "outputs": [],
   "source": [
    "colors = ['#4D3425','#E4512B']\n",
    "ax = (telecomdata['Churn'].value_counts()*100.0 /len(telecomdata)).plot(kind='bar',\n",
    "                                                                           stacked = True,\n",
    "                                                                          rot = 0,\n",
    "                                                                          color = colors,\n",
    "                                                                         figsize = (8,6))\n",
    "ax.yaxis.set_major_formatter(mtick.PercentFormatter())\n",
    "ax.set_ylabel('% Customers',size = 14)\n",
    "ax.set_xlabel('Churn',size = 14)\n",
    "ax.set_title('Churn Rate', size = 14)\n",
    "\n",
    "# create a list to collect the plt.patches data\n",
    "totals = []\n",
    "\n",
    "# find the values and append to list\n",
    "for i in ax.patches:\n",
    "    totals.append(i.get_width())\n",
    "# set individual bar lables using above list\n",
    "total = sum(totals)\n",
    "\n",
    "for i in ax.patches:\n",
    "    # get_width pulls left or right; get_y pushes up or down\n",
    "    ax.text(i.get_x()+.15, i.get_height()-4.0, \\\n",
    "            str(round((i.get_height()/total), 1))+'%',\n",
    "            fontsize=12,\n",
    "            color='white',\n",
    "           weight = 'bold',\n",
    "           size = 14)"
   ]
  },
  {
   "cell_type": "markdown",
   "id": "a84e4458",
   "metadata": {},
   "source": [
    "Observations-\n",
    "Based on given data, 74% of the customers don't churn. \n",
    "Clearly, the data is skewed as a large majority of the customers are expected to not churn.\n",
    "This needs to be duly noted for our modelling, as skeweness could lead to lot of false negatives.\n",
    "\n"
   ]
  },
  {
   "cell_type": "markdown",
   "id": "720b09af",
   "metadata": {},
   "source": [
    "To check the churn rate by tenure, seniority, contract type, monthly charges and total charges\n",
    "\n",
    "i.) Churn by Tenure: \n",
    "    \n",
    "    As seen below, customers who don't churn, tend to stay for longer tenure"
   ]
  },
  {
   "cell_type": "code",
   "execution_count": null,
   "id": "07e438f4",
   "metadata": {},
   "outputs": [],
   "source": [
    "sns.boxplot(x = telecomdata.Churn, y = telecomdata.tenure)\n"
   ]
  },
  {
   "cell_type": "markdown",
   "id": "ce2748b8",
   "metadata": {},
   "source": [
    "ii.) Churn by Contract Type: \n",
    "    \n",
    "    Customers who have a month to month contract have a very high churn rate.\n",
    "\n"
   ]
  },
  {
   "cell_type": "code",
   "execution_count": null,
   "id": "fdb354d1",
   "metadata": {},
   "outputs": [],
   "source": [
    "colors = ['#4D3425','#E4512B']\n",
    "contracts_churn = telecomdata.groupby(['Contract','Churn']).size().unstack()\n",
    "\n",
    "ax = (contracts_churn.T*100.0 / contracts_churn.T.sum()).T.plot(kind='bar',\n",
    "                                                                width = 0.3,\n",
    "                                                                stacked = True,\n",
    "                                                                rot = 0, \n",
    "                                                                figsize = (10,6),\n",
    "                                                                color = colors)\n",
    "ax.yaxis.set_major_formatter(mtick.PercentFormatter())\n",
    "ax.legend(loc='best',prop={'size':14},title = 'Churn')\n",
    "ax.set_ylabel('% Customers',size = 14)\n",
    "ax.set_title('Churn by Contract Type',size = 14)\n",
    "\n",
    "# Code to add the data labels on the stacked bar chart\n",
    "for p in ax.patches:\n",
    "    width, height = p.get_width(), p.get_height()\n",
    "    x, y = p.get_xy() \n",
    "    ax.annotate('{:.0f}%'.format(height), (p.get_x()+.25*width, p.get_y()+.4*height),\n",
    "                color = 'white',\n",
    "               weight = 'bold',\n",
    "                size = 14)\n"
   ]
  },
  {
   "cell_type": "markdown",
   "id": "4f9df19b",
   "metadata": {},
   "source": [
    "iii.) Churn by Seniority: \n",
    "    \n",
    "    Senior Citizens have double the churn rate as compared to younger population.\n",
    "\n"
   ]
  },
  {
   "cell_type": "code",
   "execution_count": null,
   "id": "bd788b91",
   "metadata": {},
   "outputs": [],
   "source": [
    "colors = ['#4D3425','#E4512B']\n",
    "senior_churn = telecomdata.groupby(['SeniorCitizen','Churn']).size().unstack()\n",
    "\n",
    "ax = (senior_churn.T*100.0 / senior_churn.T.sum()).T.plot(kind='bar',\n",
    "                                                                width = 0.2,\n",
    "                                                                stacked = True,\n",
    "                                                                rot = 0, \n",
    "                                                                figsize = (8,6),\n",
    "                                                                color = colors)\n",
    "ax.yaxis.set_major_formatter(mtick.PercentFormatter())\n",
    "ax.legend(loc='center',prop={'size':14},title = 'Churn')\n",
    "ax.set_ylabel('% Customers')\n",
    "ax.set_title('Churn by Seniority Level',size = 14)\n",
    "\n",
    "# Code to add the data labels on the stacked bar chart\n",
    "for p in ax.patches:\n",
    "    width, height = p.get_width(), p.get_height()\n",
    "    x, y = p.get_xy() \n",
    "    ax.annotate('{:.0f}%'.format(height), (p.get_x()+.25*width, p.get_y()+.4*height),\n",
    "                color = 'white',\n",
    "                weight = 'bold',size =14)"
   ]
  },
  {
   "cell_type": "markdown",
   "id": "5d2f3fb1",
   "metadata": {},
   "source": [
    "iv.) Churn by Monthly Charges: \n",
    "    \n",
    "    Higher % of customers churn when there are high monthly charges."
   ]
  },
  {
   "cell_type": "code",
   "execution_count": null,
   "id": "54fe1e43",
   "metadata": {},
   "outputs": [],
   "source": [
    "ax = sns.kdeplot(telecomdata.MonthlyCharges[(telecomdata[\"Churn\"] == 'No') ],\n",
    "                color=\"Red\", shade = True)\n",
    "ax = sns.kdeplot(telecomdata.MonthlyCharges[(telecomdata[\"Churn\"] == 'Yes') ],\n",
    "                ax =ax, color=\"Blue\", shade= True)\n",
    "ax.legend([\"Not Churn\",\"Churn\"],loc='upper right')\n",
    "ax.set_ylabel('Density')\n",
    "ax.set_xlabel('Monthly Charges')\n",
    "ax.set_title('Distribution of monthly charges by churn')"
   ]
  },
  {
   "cell_type": "markdown",
   "id": "28c29d05",
   "metadata": {},
   "source": [
    "v.) Churn by Total Charges: \n",
    "    \n",
    "    There is higher churn when there are lower total charges."
   ]
  },
  {
   "cell_type": "code",
   "execution_count": null,
   "id": "18024cb3",
   "metadata": {},
   "outputs": [],
   "source": [
    "ax = sns.kdeplot(telecomdata.TotalCharges[(telecomdata[\"Churn\"] == 'No') ],\n",
    "                color=\"Red\", shade = True)\n",
    "ax = sns.kdeplot(telecomdata.TotalCharges[(telecomdata[\"Churn\"] == 'Yes') ],\n",
    "                ax =ax, color=\"Blue\", shade= True)\n",
    "ax.legend([\"Not Churn\",\"Churn\"],loc='upper right')\n",
    "ax.set_ylabel('Density')\n",
    "ax.set_xlabel('Total Charges')\n",
    "ax.set_title('Distribution of total charges by churn')"
   ]
  },
  {
   "cell_type": "markdown",
   "id": "caebfbe0",
   "metadata": {},
   "source": [
    "### To develop predictive models and compare them.\n",
    "Using-- Logistic Regression, Random Forest"
   ]
  },
  {
   "cell_type": "markdown",
   "id": "e41c3a64",
   "metadata": {},
   "source": [
    "1. Logistic Regression"
   ]
  },
  {
   "cell_type": "code",
   "execution_count": null,
   "id": "2c40c4ce",
   "metadata": {},
   "outputs": [],
   "source": [
    "# We will use the data frame where we had created dummy variables\n",
    "y = df_dummy['Churn'].values\n",
    "X = df_dummy.drop(columns = ['Churn'])\n",
    "\n",
    "# Scaling all the variables to a range of 0 to 1\n",
    "from sklearn.preprocessing import MinMaxScaler\n",
    "features = X.columns.values\n",
    "scaler = MinMaxScaler(feature_range = (0,1))\n",
    "scaler.fit(X)\n",
    "X = pd.DataFrame(scaler.transform(X))\n",
    "X.columns = features"
   ]
  },
  {
   "cell_type": "code",
   "execution_count": null,
   "id": "5f1c745c",
   "metadata": {},
   "outputs": [],
   "source": [
    "To scale variables in logistic regression so that all of them are within a range of 0 to 1.\n",
    "This helps improve the accuracy from 79.7% to 80.7%. \n",
    "the importance of variables is also aligned with what is seen in Random Forest algorithm and the EDA done above."
   ]
  },
  {
   "cell_type": "code",
   "execution_count": null,
   "id": "6d0b3e79",
   "metadata": {},
   "outputs": [],
   "source": [
    "# Create Train & Test Data\n",
    "from sklearn.model_selection import train_test_split\n",
    "X_train, X_test, y_train, y_test = train_test_split(X, y, test_size=0.3, random_state=101)"
   ]
  },
  {
   "cell_type": "code",
   "execution_count": null,
   "id": "648246e2",
   "metadata": {},
   "outputs": [],
   "source": [
    "# Run logistic regression model\n",
    "from sklearn.linear_model import LogisticRegression\n",
    "model = LogisticRegression()\n",
    "result = model.fit(X_train, y_train)"
   ]
  },
  {
   "cell_type": "code",
   "execution_count": null,
   "id": "fd00b591",
   "metadata": {},
   "outputs": [],
   "source": [
    "from sklearn import metrics\n",
    "predictiontest = model.predict(X_test)\n",
    "# Print prediction accuracy\n",
    "print (metrics.accuracy_score(y_test, prediction_test))"
   ]
  },
  {
   "cell_type": "code",
   "execution_count": null,
   "id": "bd9dfe4a",
   "metadata": {},
   "outputs": [],
   "source": [
    "# Getting weights of all variables\n",
    "weights = pd.Series(model.coef_[0],\n",
    "                 index=X.columns.values)\n",
    "print (weights.sort_values(ascending = False)[:10].plot(kind='bar'))"
   ]
  },
  {
   "cell_type": "code",
   "execution_count": null,
   "id": "e435c6e8",
   "metadata": {},
   "outputs": [],
   "source": [
    "print(weights.sort_values(ascending = False)[-10:].plot(kind='bar'))"
   ]
  },
  {
   "cell_type": "markdown",
   "id": "cd11e606",
   "metadata": {},
   "source": [
    "Observations\n",
    "\n",
    "* Some variables have negative relation to our predicted variable (Churn), while some have positive relation. \n",
    "* When the likeliness of churn decreases with that variable it means it is Negative relation.\n",
    "\n",
    "* As seen in EDA, having 2 month contract reduces chances of churn. \n",
    "* 2 month contract along with tenure have negative relation with Churn as predicted by logistic regressions\n",
    "\n",
    "* Having DSL internet service reduces the proability of Churn\n",
    "* Fibre optic internet services, total charges, monthly contracts and seniority can lead to higher churn rates.\n",
    "* Customers are likely to churn because of faster fibre optic services"
   ]
  },
  {
   "cell_type": "markdown",
   "id": "7a8ad61f",
   "metadata": {},
   "source": [
    "2. Random Forest"
   ]
  },
  {
   "cell_type": "code",
   "execution_count": null,
   "id": "4c12bc48",
   "metadata": {},
   "outputs": [],
   "source": [
    "from sklearn.ensemble import RandomForestClassifier\n",
    "X_train, X_test, y_train, y_test = train_test_split(X, y, test_size=0.2, random_state=101)\n",
    "model_rf = RandomForestClassifier(n_estimators=1000 , oob_score = True, n_jobs = -1,\n",
    "                                  random_state =50, max_features = \"auto\",\n",
    "                                  max_leaf_nodes = 30)\n",
    "model_rf.fit(X_train, y_train)\n",
    "\n",
    "# Make predictions\n",
    "predictiontest = model_rf.predict(X_test)\n",
    "print (metrics.accuracy_score(y_test, predictiontest))"
   ]
  },
  {
   "cell_type": "code",
   "execution_count": null,
   "id": "8e19cb61",
   "metadata": {},
   "outputs": [],
   "source": [
    "importances = model_rf.feature_importances_\n",
    "weights = pd.Series(importances,\n",
    "                 index=X.columns.values)\n",
    "weights.sort_values()[-10:].plot(kind = 'barh')"
   ]
  },
  {
   "cell_type": "markdown",
   "id": "dd959d4b",
   "metadata": {},
   "source": [
    "Observations:\n",
    "\n",
    "* From random forest algorithm, monthly contract, tenure and total charges are important predictor variables to predict churn.\n",
    "* Results from random forest are same as logistic regression as expected from EDA"
   ]
  },
  {
   "cell_type": "code",
   "execution_count": null,
   "id": "2c9f1514",
   "metadata": {},
   "outputs": [],
   "source": []
  },
  {
   "cell_type": "code",
   "execution_count": null,
   "id": "c5f70410",
   "metadata": {},
   "outputs": [],
   "source": []
  },
  {
   "cell_type": "code",
   "execution_count": null,
   "id": "01beb2e9",
   "metadata": {},
   "outputs": [],
   "source": []
  },
  {
   "cell_type": "code",
   "execution_count": null,
   "id": "b0309950",
   "metadata": {},
   "outputs": [],
   "source": []
  },
  {
   "cell_type": "code",
   "execution_count": null,
   "id": "0674236f",
   "metadata": {},
   "outputs": [],
   "source": [
    "\n"
   ]
  },
  {
   "cell_type": "code",
   "execution_count": null,
   "id": "fcf6d9e3",
   "metadata": {},
   "outputs": [],
   "source": []
  },
  {
   "cell_type": "code",
   "execution_count": null,
   "id": "a03a3521",
   "metadata": {},
   "outputs": [],
   "source": []
  },
  {
   "cell_type": "code",
   "execution_count": null,
   "id": "d63547d4",
   "metadata": {},
   "outputs": [],
   "source": []
  },
  {
   "cell_type": "code",
   "execution_count": null,
   "id": "59cb92eb",
   "metadata": {},
   "outputs": [],
   "source": []
  },
  {
   "cell_type": "code",
   "execution_count": null,
   "id": "e34092f9",
   "metadata": {},
   "outputs": [],
   "source": []
  },
  {
   "cell_type": "code",
   "execution_count": null,
   "id": "0bb5e693",
   "metadata": {},
   "outputs": [],
   "source": []
  },
  {
   "cell_type": "code",
   "execution_count": null,
   "id": "373b5988",
   "metadata": {},
   "outputs": [],
   "source": []
  },
  {
   "cell_type": "code",
   "execution_count": null,
   "id": "b9c50727",
   "metadata": {},
   "outputs": [],
   "source": []
  },
  {
   "cell_type": "code",
   "execution_count": null,
   "id": "6b51faee",
   "metadata": {},
   "outputs": [],
   "source": []
  },
  {
   "cell_type": "code",
   "execution_count": null,
   "id": "a531336f",
   "metadata": {},
   "outputs": [],
   "source": []
  },
  {
   "cell_type": "code",
   "execution_count": null,
   "id": "cae2d773",
   "metadata": {},
   "outputs": [],
   "source": []
  }
 ],
 "metadata": {
  "kernelspec": {
   "display_name": "Python 3 (ipykernel)",
   "language": "python",
   "name": "python3"
  },
  "language_info": {
   "codemirror_mode": {
    "name": "ipython",
    "version": 3
   },
   "file_extension": ".py",
   "mimetype": "text/x-python",
   "name": "python",
   "nbconvert_exporter": "python",
   "pygments_lexer": "ipython3",
   "version": "3.9.12"
  }
 },
 "nbformat": 4,
 "nbformat_minor": 5
}
